{
  "cells": [
    {
      "cell_type": "markdown",
      "metadata": {
        "id": "view-in-github",
        "colab_type": "text"
      },
      "source": [
        "<a href=\"https://colab.research.google.com/github/Adolph902/Gaia/blob/main/Copia_de_01_query.ipynb\" target=\"_parent\"><img src=\"https://colab.research.google.com/assets/colab-badge.svg\" alt=\"Open In Colab\"/></a>"
      ]
    },
    {
      "cell_type": "markdown",
      "metadata": {
        "id": "4nbuvAmLyNqe"
      },
      "source": [
        "# 1. Queries\n",
        "\n",
        "This is the first in a series of lessons about working with astronomical data.\n",
        "\n",
        "As a running example, we will replicate parts of the analysis in a recent paper, \"[Off the beaten path: Gaia reveals GD-1 stars outside of the main stream](https://arxiv.org/abs/1805.00425)\" by Adrian Price-Whelan and Ana Bonaca."
      ]
    },
    {
      "cell_type": "markdown",
      "metadata": {
        "id": "WCJRBtGqyNqi"
      },
      "source": [
        "## Outline\n",
        "\n",
        "This lesson demonstrates the steps for selecting and downloading data from the Gaia Database:\n",
        "\n",
        "1. First we'll make a connection to the Gaia server,\n",
        "\n",
        "2. We will explore information about the database and the tables it contains,\n",
        "\n",
        "3. We will write a query and send it to the server, and finally\n",
        "\n",
        "4. We will download the response from the server.\n"
      ]
    },
    {
      "cell_type": "markdown",
      "metadata": {
        "id": "TdHg1HmJyNqj"
      },
      "source": [
        "## Query Language\n",
        "\n",
        "In order to select data from a database, you have to compose a query, which is a program written in a \"query language\".\n",
        "The query language we'll use is ADQL, which stands for \"Astronomical Data Query Language\".\n",
        "\n",
        "ADQL is a dialect of [SQL](https://en.wikipedia.org/wiki/SQL) (Structured Query Language), which is by far the most commonly used query language.  Almost everything you will learn about ADQL also works in SQL.\n",
        "\n",
        "[The reference manual for ADQL is here](http://www.ivoa.net/documents/ADQL/20180112/PR-ADQL-2.1-20180112.html).\n",
        "But you might find it easier to learn from [this ADQL Cookbook](https://www.gaia.ac.uk/data/gaia-data-release-1/adql-cookbook)."
      ]
    },
    {
      "cell_type": "markdown",
      "metadata": {
        "id": "zhBsf-mgyNqk"
      },
      "source": [
        "## Using Jupyter\n",
        "\n",
        "If you have not worked with Jupyter notebooks before, you might start with [the tutorial on from Jupyter.org called \"Try Classic Notebook\"](https://jupyter.org/try), or [this tutorial from DataQuest](https://www.dataquest.io/blog/jupyter-notebook-tutorial/).\n",
        "\n",
        "There are two environments you can use to write and run notebooks:\n",
        "\n",
        "* \"Jupyter Notebook\" is the original, and\n",
        "\n",
        "* \"Jupyter Lab\" is a newer environment with more features.\n",
        "\n",
        "For these lessons, you can use either one."
      ]
    },
    {
      "cell_type": "markdown",
      "metadata": {
        "id": "vvWN8Ox1yNqk"
      },
      "source": [
        "If you are too impatient for the tutorials, here are the most important things to know:\n",
        "\n",
        "1. Notebooks are made up of code cells and text cells (and a few other less common kinds).  Code cells contain code; text cells, like this one, contain explanatory text written in [Markdown](https://www.markdownguide.org/).\n",
        "\n",
        "2. To run a code cell, click the cell to select it and press Shift-Enter.  The output of the code should appear below the cell.\n",
        "\n",
        "3. In general, notebooks only run correctly if you run every code cell in order from top to bottom.  If you run cells out of order, you are likely to get errors.\n",
        "\n",
        "4. You can modify existing cells, but then you have to run them again to see the effect.\n",
        "\n",
        "5. You can add new cells, but again, you have to be careful about the order you run them in.\n",
        "\n",
        "6. If you have added or modified cells and the behavior of the notebook seems strange, you can restart the \"kernel\", which clears all of the variables and functions you have defined, and run the cells again from the beginning.\n",
        "\n",
        "* If you are using Jupyter notebook, open the `Kernel` menu and select \"Restart and Run All\".\n",
        "\n",
        "* In Jupyter Lab, open the `Kernel` menu and select \"Restart Kernel and Run All Cells\"\n",
        "\n",
        "* In Colab, open the `Runtime` menu and select \"Restart and run all\"\n",
        "\n",
        "Before you go on, you might want to explore the other menus and the toolbar to see what else you can do."
      ]
    },
    {
      "cell_type": "markdown",
      "metadata": {
        "tags": [],
        "id": "AhBvnpWDyNqm"
      },
      "source": [
        "## Installing libraries\n",
        "\n",
        "If you are running this notebook on Colab, you should run the following cell to install the libraries we'll need.\n",
        "\n",
        "If you are running this notebook on your own computer, you might have to install these libraries yourself."
      ]
    },
    {
      "cell_type": "code",
      "execution_count": 1,
      "metadata": {
        "tags": [],
        "id": "CQKbUpicyNqn",
        "colab": {
          "base_uri": "https://localhost:8080/"
        },
        "outputId": "7189c9d3-77d4-4844-e536-4584882fbc40"
      },
      "outputs": [
        {
          "output_type": "stream",
          "name": "stdout",
          "text": [
            "Collecting astroquery\n",
            "  Downloading astroquery-0.4.6-py3-none-any.whl (4.5 MB)\n",
            "\u001b[2K     \u001b[90m━━━━━━━━━━━━━━━━━━━━━━━━━━━━━━━━━━━━━━━━\u001b[0m \u001b[32m4.5/4.5 MB\u001b[0m \u001b[31m61.6 MB/s\u001b[0m eta \u001b[36m0:00:00\u001b[0m\n",
            "\u001b[?25hRequirement already satisfied: numpy>=1.16 in /usr/local/lib/python3.10/dist-packages (from astroquery) (1.23.5)\n",
            "Requirement already satisfied: astropy>=4.0 in /usr/local/lib/python3.10/dist-packages (from astroquery) (5.3.2)\n",
            "Requirement already satisfied: requests>=2.4.3 in /usr/local/lib/python3.10/dist-packages (from astroquery) (2.31.0)\n",
            "Requirement already satisfied: beautifulsoup4>=4.3.2 in /usr/local/lib/python3.10/dist-packages (from astroquery) (4.11.2)\n",
            "Requirement already satisfied: html5lib>=0.999 in /usr/local/lib/python3.10/dist-packages (from astroquery) (1.1)\n",
            "Requirement already satisfied: keyring>=4.0 in /usr/lib/python3/dist-packages (from astroquery) (23.5.0)\n",
            "Collecting pyvo>=1.1 (from astroquery)\n",
            "  Downloading pyvo-1.4.2-py3-none-any.whl (888 kB)\n",
            "\u001b[2K     \u001b[90m━━━━━━━━━━━━━━━━━━━━━━━━━━━━━━━━━━━━━━\u001b[0m \u001b[32m888.9/888.9 kB\u001b[0m \u001b[31m72.6 MB/s\u001b[0m eta \u001b[36m0:00:00\u001b[0m\n",
            "\u001b[?25hRequirement already satisfied: pyerfa>=2.0 in /usr/local/lib/python3.10/dist-packages (from astropy>=4.0->astroquery) (2.0.0.3)\n",
            "Requirement already satisfied: PyYAML>=3.13 in /usr/local/lib/python3.10/dist-packages (from astropy>=4.0->astroquery) (6.0.1)\n",
            "Requirement already satisfied: packaging>=19.0 in /usr/local/lib/python3.10/dist-packages (from astropy>=4.0->astroquery) (23.1)\n",
            "Requirement already satisfied: soupsieve>1.2 in /usr/local/lib/python3.10/dist-packages (from beautifulsoup4>=4.3.2->astroquery) (2.4.1)\n",
            "Requirement already satisfied: six>=1.9 in /usr/local/lib/python3.10/dist-packages (from html5lib>=0.999->astroquery) (1.16.0)\n",
            "Requirement already satisfied: webencodings in /usr/local/lib/python3.10/dist-packages (from html5lib>=0.999->astroquery) (0.5.1)\n",
            "Requirement already satisfied: charset-normalizer<4,>=2 in /usr/local/lib/python3.10/dist-packages (from requests>=2.4.3->astroquery) (3.2.0)\n",
            "Requirement already satisfied: idna<4,>=2.5 in /usr/local/lib/python3.10/dist-packages (from requests>=2.4.3->astroquery) (3.4)\n",
            "Requirement already satisfied: urllib3<3,>=1.21.1 in /usr/local/lib/python3.10/dist-packages (from requests>=2.4.3->astroquery) (2.0.4)\n",
            "Requirement already satisfied: certifi>=2017.4.17 in /usr/local/lib/python3.10/dist-packages (from requests>=2.4.3->astroquery) (2023.7.22)\n",
            "Installing collected packages: pyvo, astroquery\n",
            "Successfully installed astroquery-0.4.6 pyvo-1.4.2\n"
          ]
        }
      ],
      "source": [
        "# If we're running on Colab, install libraries\n",
        "\n",
        "import sys\n",
        "IN_COLAB = 'google.colab' in sys.modules\n",
        "\n",
        "if IN_COLAB:\n",
        "    !pip install astroquery"
      ]
    },
    {
      "cell_type": "markdown",
      "metadata": {
        "id": "WeoPSZTEyNqp"
      },
      "source": [
        "## Connecting to Gaia\n",
        "\n",
        "The library we'll use to get Gaia data is [Astroquery](https://astroquery.readthedocs.io/en/latest/).\n",
        "Astroquery provides `Gaia`, which is an [object that represents a connection to the Gaia database](https://astroquery.readthedocs.io/en/latest/gaia/gaia.html).\n",
        "\n",
        "We can connect to the Gaia database like this:"
      ]
    },
    {
      "cell_type": "code",
      "execution_count": 2,
      "metadata": {
        "id": "jgJBhrORyNqq"
      },
      "outputs": [],
      "source": [
        "from astroquery.gaia import Gaia"
      ]
    },
    {
      "cell_type": "markdown",
      "metadata": {
        "id": "yH87LbF9yNqq"
      },
      "source": [
        "This import statement creates a [TAP+](http://www.ivoa.net/documents/TAP/) connection; TAP stands for \"Table Access Protocol\", which is a network protocol for sending queries to the database and getting back the results.  "
      ]
    },
    {
      "cell_type": "markdown",
      "metadata": {
        "id": "0SLgRGNxyNqq"
      },
      "source": [
        "## Databases and Tables\n",
        "\n",
        "What is a database, anyway?  Most generally, it can be any collection of data, but when we are talking about ADQL or SQL:\n",
        "\n",
        "* A database is a collection of one or more named tables.\n",
        "\n",
        "* Each table is a 2-D array with one or more named columns of data.\n",
        "\n",
        "We can use `Gaia.load_tables` to get the names of the tables in the Gaia database.  With the option `only_names=True`, it loads information about the tables, called \"metadata\", not the data itself."
      ]
    },
    {
      "cell_type": "code",
      "execution_count": 3,
      "metadata": {
        "id": "IrSbwZaZyNqq",
        "colab": {
          "base_uri": "https://localhost:8080/"
        },
        "outputId": "1b4c0d9f-8644-41c2-ca12-9697361ab00c"
      },
      "outputs": [
        {
          "output_type": "stream",
          "name": "stderr",
          "text": [
            "INFO:astroquery:Retrieving tables...\n"
          ]
        },
        {
          "output_type": "stream",
          "name": "stdout",
          "text": [
            "INFO: Retrieving tables... [astroquery.utils.tap.core]\n"
          ]
        },
        {
          "output_type": "stream",
          "name": "stderr",
          "text": [
            "INFO:astroquery:Parsing tables...\n"
          ]
        },
        {
          "output_type": "stream",
          "name": "stdout",
          "text": [
            "INFO: Parsing tables... [astroquery.utils.tap.core]\n"
          ]
        },
        {
          "output_type": "stream",
          "name": "stderr",
          "text": [
            "INFO:astroquery:Done.\n"
          ]
        },
        {
          "output_type": "stream",
          "name": "stdout",
          "text": [
            "INFO: Done. [astroquery.utils.tap.core]\n"
          ]
        }
      ],
      "source": [
        "tables = Gaia.load_tables(only_names=True)"
      ]
    },
    {
      "cell_type": "markdown",
      "metadata": {
        "id": "ZZVQQbWYyNqr"
      },
      "source": [
        "The following `for` loop prints the names of the tables."
      ]
    },
    {
      "cell_type": "code",
      "execution_count": 4,
      "metadata": {
        "tags": [],
        "id": "ABu-Pe1RyNqr",
        "colab": {
          "base_uri": "https://localhost:8080/"
        },
        "outputId": "f7b5c266-02cc-4e77-8bfb-45a8352dd85e"
      },
      "outputs": [
        {
          "output_type": "stream",
          "name": "stdout",
          "text": [
            "external.apassdr9\n",
            "external.gaiadr2_astrophysical_parameters\n",
            "external.gaiadr2_geometric_distance\n",
            "external.gaiaedr3_distance\n",
            "external.gaiaedr3_gcns_main_1\n",
            "external.gaiaedr3_gcns_rejected_1\n",
            "external.gaiaedr3_spurious\n",
            "external.galex_ais\n",
            "external.ravedr5_com\n",
            "external.ravedr5_dr5\n",
            "external.ravedr5_gra\n",
            "external.ravedr5_on\n",
            "external.ravedr6\n",
            "external.sdssdr13_photoprimary\n",
            "external.skymapperdr1_master\n",
            "external.skymapperdr2_master\n",
            "external.tmass_xsc\n",
            "gaiadr1.aux_qso_icrf2_match\n",
            "gaiadr1.ext_phot_zero_point\n",
            "gaiadr1.allwise_best_neighbour\n",
            "gaiadr1.allwise_neighbourhood\n",
            "gaiadr1.gsc23_best_neighbour\n",
            "gaiadr1.gsc23_neighbourhood\n",
            "gaiadr1.ppmxl_best_neighbour\n",
            "gaiadr1.ppmxl_neighbourhood\n",
            "gaiadr1.sdss_dr9_best_neighbour\n",
            "gaiadr1.sdss_dr9_neighbourhood\n",
            "gaiadr1.tmass_best_neighbour\n",
            "gaiadr1.tmass_neighbourhood\n",
            "gaiadr1.ucac4_best_neighbour\n",
            "gaiadr1.ucac4_neighbourhood\n",
            "gaiadr1.urat1_best_neighbour\n",
            "gaiadr1.urat1_neighbourhood\n",
            "gaiadr1.cepheid\n",
            "gaiadr1.phot_variable_time_series_gfov\n",
            "gaiadr1.phot_variable_time_series_gfov_statistical_parameters\n",
            "gaiadr1.rrlyrae\n",
            "gaiadr1.variable_summary\n",
            "gaiadr1.allwise_original_valid\n",
            "gaiadr1.gsc23_original_valid\n",
            "gaiadr1.ppmxl_original_valid\n",
            "gaiadr1.sdssdr9_original_valid\n",
            "gaiadr1.tmass_original_valid\n",
            "gaiadr1.ucac4_original_valid\n",
            "gaiadr1.urat1_original_valid\n",
            "gaiadr1.gaia_source\n",
            "gaiadr1.tgas_source\n",
            "gaiadr2.aux_allwise_agn_gdr2_cross_id\n",
            "gaiadr2.aux_iers_gdr2_cross_id\n",
            "gaiadr2.aux_sso_orbit_residuals\n",
            "gaiadr2.aux_sso_orbits\n",
            "gaiadr2.dr1_neighbourhood\n",
            "gaiadr2.allwise_best_neighbour\n",
            "gaiadr2.allwise_neighbourhood\n",
            "gaiadr2.apassdr9_best_neighbour\n",
            "gaiadr2.apassdr9_neighbourhood\n",
            "gaiadr2.gsc23_best_neighbour\n",
            "gaiadr2.gsc23_neighbourhood\n",
            "gaiadr2.hipparcos2_best_neighbour\n",
            "gaiadr2.hipparcos2_neighbourhood\n",
            "gaiadr2.panstarrs1_best_neighbour\n",
            "gaiadr2.panstarrs1_neighbourhood\n",
            "gaiadr2.ppmxl_best_neighbour\n",
            "gaiadr2.ppmxl_neighbourhood\n",
            "gaiadr2.ravedr5_best_neighbour\n",
            "gaiadr2.ravedr5_neighbourhood\n",
            "gaiadr2.sdssdr9_best_neighbour\n",
            "gaiadr2.sdssdr9_neighbourhood\n",
            "gaiadr2.tmass_best_neighbour\n",
            "gaiadr2.tmass_neighbourhood\n",
            "gaiadr2.tycho2_best_neighbour\n",
            "gaiadr2.tycho2_neighbourhood\n",
            "gaiadr2.urat1_best_neighbour\n",
            "gaiadr2.urat1_neighbourhood\n",
            "gaiadr2.sso_observation\n",
            "gaiadr2.sso_source\n",
            "gaiadr2.vari_cepheid\n",
            "gaiadr2.vari_classifier_class_definition\n",
            "gaiadr2.vari_classifier_definition\n",
            "gaiadr2.vari_classifier_result\n",
            "gaiadr2.vari_long_period_variable\n",
            "gaiadr2.vari_rotation_modulation\n",
            "gaiadr2.vari_rrlyrae\n",
            "gaiadr2.vari_short_timescale\n",
            "gaiadr2.vari_time_series_statistics\n",
            "gaiadr2.panstarrs1_original_valid\n",
            "gaiadr2.gaia_source\n",
            "gaiadr2.ruwe\n",
            "gaiadr3.gaia_source\n",
            "gaiadr3.gaia_source_lite\n",
            "gaiadr3.astrophysical_parameters\n",
            "gaiadr3.astrophysical_parameters_supp\n",
            "gaiadr3.oa_neuron_information\n",
            "gaiadr3.oa_neuron_xp_spectra\n",
            "gaiadr3.total_galactic_extinction_map\n",
            "gaiadr3.total_galactic_extinction_map_opt\n",
            "gaiadr3.commanded_scan_law\n",
            "gaiadr3.allwise_best_neighbour\n",
            "gaiadr3.allwise_neighbourhood\n",
            "gaiadr3.apassdr9_best_neighbour\n",
            "gaiadr3.apassdr9_join\n",
            "gaiadr3.apassdr9_neighbourhood\n",
            "gaiadr3.dr2_neighbourhood\n",
            "gaiadr3.gsc23_best_neighbour\n",
            "gaiadr3.gsc23_join\n",
            "gaiadr3.gsc23_neighbourhood\n",
            "gaiadr3.hipparcos2_best_neighbour\n",
            "gaiadr3.hipparcos2_neighbourhood\n",
            "gaiadr3.panstarrs1_best_neighbour\n",
            "gaiadr3.panstarrs1_join\n",
            "gaiadr3.panstarrs1_neighbourhood\n",
            "gaiadr3.ravedr5_best_neighbour\n",
            "gaiadr3.ravedr5_join\n",
            "gaiadr3.ravedr5_neighbourhood\n",
            "gaiadr3.ravedr6_best_neighbour\n",
            "gaiadr3.ravedr6_join\n",
            "gaiadr3.ravedr6_neighbourhood\n",
            "gaiadr3.sdssdr13_best_neighbour\n",
            "gaiadr3.sdssdr13_join\n",
            "gaiadr3.sdssdr13_neighbourhood\n",
            "gaiadr3.skymapperdr2_best_neighbour\n",
            "gaiadr3.skymapperdr2_join\n",
            "gaiadr3.skymapperdr2_neighbourhood\n",
            "gaiadr3.tmass_psc_xsc_best_neighbour\n",
            "gaiadr3.tmass_psc_xsc_join\n",
            "gaiadr3.tmass_psc_xsc_neighbourhood\n",
            "gaiadr3.tycho2tdsc_merge_best_neighbour\n",
            "gaiadr3.tycho2tdsc_merge_neighbourhood\n",
            "gaiadr3.urat1_best_neighbour\n",
            "gaiadr3.urat1_neighbourhood\n",
            "gaiadr3.galaxy_candidates\n",
            "gaiadr3.galaxy_catalogue_name\n",
            "gaiadr3.qso_candidates\n",
            "gaiadr3.qso_catalogue_name\n",
            "gaiadr3.nss_acceleration_astro\n",
            "gaiadr3.nss_non_linear_spectro\n",
            "gaiadr3.nss_two_body_orbit\n",
            "gaiadr3.nss_vim_fl\n",
            "gaiadr3.binary_masses\n",
            "gaiadr3.chemical_cartography\n",
            "gaiadr3.gold_sample_carbon_stars\n",
            "gaiadr3.gold_sample_fgkm_stars\n",
            "gaiadr3.gold_sample_oba_stars\n",
            "gaiadr3.gold_sample_solar_analogues\n",
            "gaiadr3.gold_sample_spss\n",
            "gaiadr3.gold_sample_ucd\n",
            "gaiadr3.sso_orbits\n",
            "gaiadr3.synthetic_photometry_gspc\n",
            "gaiadr3.vari_spurious_signals\n",
            "gaiadr3.agn_cross_id\n",
            "gaiadr3.frame_rotator_source\n",
            "gaiadr3.gaia_crf3_xm\n",
            "gaiadr3.alerts_mixedin_sourceids\n",
            "gaiadr3.science_alerts\n",
            "gaiadr3.gaia_source_simulation\n",
            "gaiadr3.gaia_universe_model\n",
            "gaiadr3.sso_observation\n",
            "gaiadr3.sso_reflectance_spectrum\n",
            "gaiadr3.sso_source\n",
            "gaiadr3.xp_summary\n",
            "gaiadr3.vari_agn\n",
            "gaiadr3.vari_cepheid\n",
            "gaiadr3.vari_classifier_class_definition\n",
            "gaiadr3.vari_classifier_definition\n",
            "gaiadr3.vari_classifier_result\n",
            "gaiadr3.vari_compact_companion\n",
            "gaiadr3.vari_eclipsing_binary\n",
            "gaiadr3.vari_epoch_radial_velocity\n",
            "gaiadr3.vari_long_period_variable\n",
            "gaiadr3.vari_microlensing\n",
            "gaiadr3.vari_ms_oscillator\n",
            "gaiadr3.vari_planetary_transit\n",
            "gaiadr3.vari_planetary_transit_13june2022\n",
            "gaiadr3.vari_rad_vel_statistics\n",
            "gaiadr3.vari_rotation_modulation\n",
            "gaiadr3.vari_rrlyrae\n",
            "gaiadr3.vari_short_timescale\n",
            "gaiadr3.vari_summary\n",
            "gaiadr3.tycho2tdsc_merge\n",
            "gaiaedr3.gaia_source\n",
            "gaiaedr3.agn_cross_id\n",
            "gaiaedr3.commanded_scan_law\n",
            "gaiaedr3.dr2_neighbourhood\n",
            "gaiaedr3.frame_rotator_source\n",
            "gaiaedr3.allwise_best_neighbour\n",
            "gaiaedr3.allwise_neighbourhood\n",
            "gaiaedr3.apassdr9_best_neighbour\n",
            "gaiaedr3.apassdr9_join\n",
            "gaiaedr3.apassdr9_neighbourhood\n",
            "gaiaedr3.gsc23_best_neighbour\n",
            "gaiaedr3.gsc23_join\n",
            "gaiaedr3.gsc23_neighbourhood\n",
            "gaiaedr3.hipparcos2_best_neighbour\n",
            "gaiaedr3.hipparcos2_neighbourhood\n",
            "gaiaedr3.panstarrs1_best_neighbour\n",
            "gaiaedr3.panstarrs1_join\n",
            "gaiaedr3.panstarrs1_neighbourhood\n",
            "gaiaedr3.ravedr5_best_neighbour\n",
            "gaiaedr3.ravedr5_join\n",
            "gaiaedr3.ravedr5_neighbourhood\n",
            "gaiaedr3.sdssdr13_best_neighbour\n",
            "gaiaedr3.sdssdr13_join\n",
            "gaiaedr3.sdssdr13_neighbourhood\n",
            "gaiaedr3.skymapperdr2_best_neighbour\n",
            "gaiaedr3.skymapperdr2_join\n",
            "gaiaedr3.skymapperdr2_neighbourhood\n",
            "gaiaedr3.tmass_psc_xsc_best_neighbour\n",
            "gaiaedr3.tmass_psc_xsc_join\n",
            "gaiaedr3.tmass_psc_xsc_neighbourhood\n",
            "gaiaedr3.tycho2tdsc_merge_best_neighbour\n",
            "gaiaedr3.tycho2tdsc_merge_neighbourhood\n",
            "gaiaedr3.urat1_best_neighbour\n",
            "gaiaedr3.urat1_neighbourhood\n",
            "gaiaedr3.gaia_source_simulation\n",
            "gaiaedr3.gaia_universe_model\n",
            "gaiaedr3.tycho2tdsc_merge\n",
            "public.hipparcos\n",
            "public.hipparcos_newreduction\n",
            "public.hubble_sc\n",
            "public.igsl_source\n",
            "public.igsl_source_catalog_ids\n",
            "public.tycho2\n",
            "public.dual\n",
            "tap_config.coord_sys\n",
            "tap_config.properties\n",
            "tap_schema.columns\n",
            "tap_schema.key_columns\n",
            "tap_schema.keys\n",
            "tap_schema.schemas\n",
            "tap_schema.tables\n"
          ]
        }
      ],
      "source": [
        "for table in tables:\n",
        "    print(table.name)"
      ]
    },
    {
      "cell_type": "markdown",
      "metadata": {
        "id": "5XP2aBmEyNqr"
      },
      "source": [
        "So that's a lot of tables.  The ones we'll use are:\n",
        "\n",
        "* `gaiadr2.gaia_source`, which contains Gaia data from [data release 2](https://www.cosmos.esa.int/web/gaia/data-release-2),\n",
        "\n",
        "* `gaiadr2.panstarrs1_original_valid`, which contains the photometry data we'll use from PanSTARRS, and\n",
        "\n",
        "* `gaiadr2.panstarrs1_best_neighbour`, which we'll use to cross-match each star observed by Gaia with the same star observed by PanSTARRS.\n",
        "\n",
        "We can use `load_table` (not `load_tables`) to get the metadata for a single table.  The name of this function is misleading, because it only downloads metadata, not the contents of the table."
      ]
    },
    {
      "cell_type": "code",
      "execution_count": 5,
      "metadata": {
        "id": "r6q3ORXvyNqs",
        "colab": {
          "base_uri": "https://localhost:8080/"
        },
        "outputId": "9a8c1e43-a05e-4aca-cb13-fc692d222c85"
      },
      "outputs": [
        {
          "output_type": "stream",
          "name": "stdout",
          "text": [
            "Retrieving table 'gaiadr2.gaia_source'\n"
          ]
        },
        {
          "output_type": "execute_result",
          "data": {
            "text/plain": [
              "<astroquery.utils.tap.model.taptable.TapTableMeta at 0x7a4a6c2fb310>"
            ]
          },
          "metadata": {},
          "execution_count": 5
        }
      ],
      "source": [
        "meta = Gaia.load_table('gaiadr2.gaia_source')\n",
        "meta"
      ]
    },
    {
      "cell_type": "markdown",
      "metadata": {
        "id": "ZP_tExtMyNqs"
      },
      "source": [
        "Jupyter shows that the result is an object of type `TapTableMeta`, but it does not display the contents.\n",
        "\n",
        "To see the metadata, we have to print the object."
      ]
    },
    {
      "cell_type": "code",
      "execution_count": 6,
      "metadata": {
        "id": "rc7lsSrhyNqs",
        "colab": {
          "base_uri": "https://localhost:8080/"
        },
        "outputId": "74e3d5a1-1bae-4109-8745-7c22f4a39881"
      },
      "outputs": [
        {
          "output_type": "stream",
          "name": "stdout",
          "text": [
            "TAP Table name: gaiadr2.gaiadr2.gaia_source\n",
            "Description: This table has an entry for every Gaia observed source as listed in the\n",
            "Main Database accumulating catalogue version from which the catalogue\n",
            "release has been generated. It contains the basic source parameters,\n",
            "that is only final data (no epoch data) and no spectra (neither final\n",
            "nor epoch).\n",
            "Num. columns: 96\n"
          ]
        }
      ],
      "source": [
        "print(meta)"
      ]
    },
    {
      "cell_type": "markdown",
      "metadata": {
        "id": "3-X_jVHxyNqs"
      },
      "source": [
        "## Columns\n",
        "\n",
        "The following loop prints the names of the columns in the table."
      ]
    },
    {
      "cell_type": "code",
      "execution_count": 7,
      "metadata": {
        "tags": [],
        "id": "cwA6qfV0yNqs",
        "colab": {
          "base_uri": "https://localhost:8080/"
        },
        "outputId": "32482ff4-976e-47ef-f772-0d657b122e94"
      },
      "outputs": [
        {
          "output_type": "stream",
          "name": "stdout",
          "text": [
            "solution_id\n",
            "designation\n",
            "source_id\n",
            "random_index\n",
            "ref_epoch\n",
            "ra\n",
            "ra_error\n",
            "dec\n",
            "dec_error\n",
            "parallax\n",
            "parallax_error\n",
            "parallax_over_error\n",
            "pmra\n",
            "pmra_error\n",
            "pmdec\n",
            "pmdec_error\n",
            "ra_dec_corr\n",
            "ra_parallax_corr\n",
            "ra_pmra_corr\n",
            "ra_pmdec_corr\n",
            "dec_parallax_corr\n",
            "dec_pmra_corr\n",
            "dec_pmdec_corr\n",
            "parallax_pmra_corr\n",
            "parallax_pmdec_corr\n",
            "pmra_pmdec_corr\n",
            "astrometric_n_obs_al\n",
            "astrometric_n_obs_ac\n",
            "astrometric_n_good_obs_al\n",
            "astrometric_n_bad_obs_al\n",
            "astrometric_gof_al\n",
            "astrometric_chi2_al\n",
            "astrometric_excess_noise\n",
            "astrometric_excess_noise_sig\n",
            "astrometric_params_solved\n",
            "astrometric_primary_flag\n",
            "astrometric_weight_al\n",
            "astrometric_pseudo_colour\n",
            "astrometric_pseudo_colour_error\n",
            "mean_varpi_factor_al\n",
            "astrometric_matched_observations\n",
            "visibility_periods_used\n",
            "astrometric_sigma5d_max\n",
            "frame_rotator_object_type\n",
            "matched_observations\n",
            "duplicated_source\n",
            "phot_g_n_obs\n",
            "phot_g_mean_flux\n",
            "phot_g_mean_flux_error\n",
            "phot_g_mean_flux_over_error\n",
            "phot_g_mean_mag\n",
            "phot_bp_n_obs\n",
            "phot_bp_mean_flux\n",
            "phot_bp_mean_flux_error\n",
            "phot_bp_mean_flux_over_error\n",
            "phot_bp_mean_mag\n",
            "phot_rp_n_obs\n",
            "phot_rp_mean_flux\n",
            "phot_rp_mean_flux_error\n",
            "phot_rp_mean_flux_over_error\n",
            "phot_rp_mean_mag\n",
            "phot_bp_rp_excess_factor\n",
            "phot_proc_mode\n",
            "bp_rp\n",
            "bp_g\n",
            "g_rp\n",
            "radial_velocity\n",
            "radial_velocity_error\n",
            "rv_nb_transits\n",
            "rv_template_teff\n",
            "rv_template_logg\n",
            "rv_template_fe_h\n",
            "phot_variable_flag\n",
            "l\n",
            "b\n",
            "ecl_lon\n",
            "ecl_lat\n",
            "priam_flags\n",
            "teff_val\n",
            "teff_percentile_lower\n",
            "teff_percentile_upper\n",
            "a_g_val\n",
            "a_g_percentile_lower\n",
            "a_g_percentile_upper\n",
            "e_bp_min_rp_val\n",
            "e_bp_min_rp_percentile_lower\n",
            "e_bp_min_rp_percentile_upper\n",
            "flame_flags\n",
            "radius_val\n",
            "radius_percentile_lower\n",
            "radius_percentile_upper\n",
            "lum_val\n",
            "lum_percentile_lower\n",
            "lum_percentile_upper\n",
            "datalink_url\n",
            "epoch_photometry_url\n"
          ]
        }
      ],
      "source": [
        "for column in meta.columns:\n",
        "    print(column.name)"
      ]
    },
    {
      "cell_type": "markdown",
      "metadata": {
        "id": "IWBu7VznyNqt"
      },
      "source": [
        "You can probably infer what many of these columns are by looking at the names, but you should resist the temptation to guess.\n",
        "To find out what the columns mean, [read the documentation](https://gea.esac.esa.int/archive/documentation/GDR2/Gaia_archive/chap_datamodel/sec_dm_main_tables/ssec_dm_gaia_source.html).\n",
        "\n",
        "If you want to know what can go wrong when you don't read the documentation, [you might like this article](https://www.vox.com/future-perfect/2019/6/4/18650969/married-women-miserable-fake-paul-dolan-happiness)."
      ]
    },
    {
      "cell_type": "markdown",
      "metadata": {
        "id": "-tbYm8DRyNqt"
      },
      "source": [
        "### Exercise\n",
        "\n",
        "One of the other tables we'll use is `gaiadr2.panstarrs1_original_valid`.  Use `load_table` to get the metadata for this table.  How many columns are there and what are their names?"
      ]
    },
    {
      "cell_type": "code",
      "execution_count": 10,
      "metadata": {
        "tags": [],
        "id": "fQhmP281yNqt",
        "colab": {
          "base_uri": "https://localhost:8080/"
        },
        "outputId": "29d2603f-ff6e-4ffd-a450-810ac8f741c8"
      },
      "outputs": [
        {
          "output_type": "stream",
          "name": "stdout",
          "text": [
            "Retrieving table 'gaiadr2.panstarrs1_original_valid'\n",
            "TAP Table name: gaiadr2.gaiadr2.panstarrs1_original_valid\n",
            "Description: The Panoramic Survey Telescope and Rapid Response System (Pan-STARRS) is\n",
            "a system for wide-field astronomical imaging developed and operated by\n",
            "the Institute for Astronomy at the University of Hawaii. Pan-STARRS1\n",
            "(PS1) is the first part of Pan-STARRS to be completed and is the basis\n",
            "for Data Release 1 (DR1). The PS1 survey used a 1.8 meter telescope and\n",
            "its 1.4 Gigapixel camera to image the sky in five broadband filters (g,\n",
            "r, i, z, y).\n",
            "\n",
            "The current table contains a filtered subsample of the 10 723 304 629\n",
            "entries listed in the original ObjectThin table.\n",
            "We used only ObjectThin and MeanObject tables to extract\n",
            "panstarrs1OriginalValid table, this means that objects detected only in\n",
            "stack images are not included here. The main reason for us to avoid the\n",
            "use of objects detected in stack images is that their astrometry is not\n",
            "as good as the mean objects astrometry: “The stack positions (raStack,\n",
            "decStack) have considerably larger systematic astrometric errors than\n",
            "the mean epoch positions (raMean, decMean).” The astrometry for the\n",
            "MeanObject positions uses Gaia DR1 as a reference catalog, while the\n",
            "stack positions use 2MASS as a reference catalog.\n",
            "\n",
            "In details, we filtered out all objects where:\n",
            "\n",
            "-   nDetections = 1\n",
            "\n",
            "-   no good quality data in Pan-STARRS, objInfoFlag 33554432 not set\n",
            "\n",
            "-   mean astrometry could not be measured, objInfoFlag 524288 set\n",
            "\n",
            "-   stack position used for mean astrometry, objInfoFlag 1048576 set\n",
            "\n",
            "-   error on all magnitudes equal to 0 or to -999;\n",
            "\n",
            "-   all magnitudes set to -999;\n",
            "\n",
            "-   error on RA or DEC greater than 1 arcsec.\n",
            "\n",
            "The number of objects in panstarrs1OriginalValid is 2 264 263 282.\n",
            "\n",
            "The panstarrs1OriginalValid table contains only a subset of the columns\n",
            "available in the combined ObjectThin and MeanObject tables. A\n",
            "description of the original ObjectThin and MeanObjects tables can be\n",
            "found at:\n",
            "https://outerspace.stsci.edu/display/PANSTARRS/PS1+Database+object+and+detection+tables\n",
            "\n",
            "Download:\n",
            "http://mastweb.stsci.edu/ps1casjobs/home.aspx\n",
            "Documentation:\n",
            "https://outerspace.stsci.edu/display/PANSTARRS\n",
            "http://pswww.ifa.hawaii.edu/pswww/\n",
            "References:\n",
            "The Pan-STARRS1 Surveys, Chambers, K.C., et al. 2016, arXiv:1612.05560\n",
            "Pan-STARRS Data Processing System, Magnier, E. A., et al. 2016,\n",
            "arXiv:1612.05240\n",
            "Pan-STARRS Pixel Processing: Detrending, Warping, Stacking, Waters, C.\n",
            "Z., et al. 2016, arXiv:1612.05245\n",
            "Pan-STARRS Pixel Analysis: Source Detection and Characterization,\n",
            "Magnier, E. A., et al. 2016, arXiv:1612.05244\n",
            "Pan-STARRS Photometric and Astrometric Calibration, Magnier, E. A., et\n",
            "al. 2016, arXiv:1612.05242\n",
            "The Pan-STARRS1 Database and Data Products, Flewelling, H. A., et al.\n",
            "2016, arXiv:1612.05243\n",
            "\n",
            "Catalogue curator:\n",
            "SSDC - ASI Space Science Data Center\n",
            "https://www.ssdc.asi.it/\n",
            "Num. columns: 26\n",
            "obj_name\n",
            "obj_id\n",
            "ra\n",
            "dec\n",
            "ra_error\n",
            "dec_error\n",
            "epoch_mean\n",
            "g_mean_psf_mag\n",
            "g_mean_psf_mag_error\n",
            "g_flags\n",
            "r_mean_psf_mag\n",
            "r_mean_psf_mag_error\n",
            "r_flags\n",
            "i_mean_psf_mag\n",
            "i_mean_psf_mag_error\n",
            "i_flags\n",
            "z_mean_psf_mag\n",
            "z_mean_psf_mag_error\n",
            "z_flags\n",
            "y_mean_psf_mag\n",
            "y_mean_psf_mag_error\n",
            "y_flags\n",
            "n_detections\n",
            "zone_id\n",
            "obj_info_flag\n",
            "quality_flag\n"
          ]
        }
      ],
      "source": [
        "meta = Gaia.load_table('gaiadr2.panstarrs1_original_valid')\n",
        "meta\n",
        "print(meta)\n",
        "for column in meta.columns:\n",
        "    print(column.name)\n",
        ""
      ]
    },
    {
      "cell_type": "code",
      "source": [
        "query1 = 'SELECT TOP 10 source_id, ra, dec, parallax FROM gaiadr2.gaia_source'\n"
      ],
      "metadata": {
        "id": "VvMGgdFG2WP3"
      },
      "execution_count": 12,
      "outputs": []
    },
    {
      "cell_type": "markdown",
      "metadata": {
        "id": "CCWUZGoyyNqt"
      },
      "source": [
        "## Writing queries\n",
        "\n",
        "By now you might be wondering how we download these tables.  With tables this big, you generally don't.  Instead, you use queries to select only the data you want.\n",
        "\n",
        "A query is a string written in a query language like SQL; for the Gaia database, the query language is a dialect of SQL called ADQL.\n",
        "\n",
        "Here's an example of an ADQL query."
      ]
    },
    {
      "cell_type": "code",
      "execution_count": 13,
      "metadata": {
        "id": "byGSdmTCyNqt"
      },
      "outputs": [],
      "source": [
        "query1 = \"\"\"SELECT\n",
        "TOP 10\n",
        "source_id, ra, dec, parallax\n",
        "FROM gaiadr2.gaia_source\n",
        "\"\"\""
      ]
    },
    {
      "cell_type": "markdown",
      "metadata": {
        "id": "PoIQgC1eyNqv"
      },
      "source": [
        "**Python note:** We use a [triple-quoted string](https://docs.python.org/3/tutorial/introduction.html#strings) here so we can include line breaks in the query, which makes it easier to read.\n",
        "\n",
        "The words in uppercase are ADQL keywords:\n",
        "\n",
        "* `SELECT` indicates that we are selecting data (as opposed to adding or modifying data).\n",
        "\n",
        "* `TOP` indicates that we only want the first 10 rows of the table, which is useful for testing a query before asking for all of the data.\n",
        "\n",
        "* `FROM` specifies which table we want data from.\n",
        "\n",
        "The third line is a list of column names, indicating which columns we want.  \n",
        "\n",
        "In this example, the keywords are capitalized and the column names are lowercase.  This is a common style, but it is not required.  ADQL and SQL are not case-sensitive.\n",
        "\n",
        "Also, the query is broken into multiple lines to make it more readable.  This is a common style, but not required.  Line breaks don't affect the behavior of the query."
      ]
    },
    {
      "cell_type": "markdown",
      "metadata": {
        "id": "fQBlmdUvyNqv"
      },
      "source": [
        "To run this query, we use the `Gaia` object, which represents our connection to the Gaia database, and invoke `launch_job`:"
      ]
    },
    {
      "cell_type": "code",
      "execution_count": 14,
      "metadata": {
        "id": "4JuYyeJTyNqv",
        "colab": {
          "base_uri": "https://localhost:8080/"
        },
        "outputId": "0cfbca03-c995-4fec-9ad0-2d5b0fae00b9"
      },
      "outputs": [
        {
          "output_type": "execute_result",
          "data": {
            "text/plain": [
              "<astroquery.utils.tap.model.job.Job at 0x7a4a8a0c2d40>"
            ]
          },
          "metadata": {},
          "execution_count": 14
        }
      ],
      "source": [
        "job = Gaia.launch_job(query2)\n",
        "job"
      ]
    },
    {
      "cell_type": "markdown",
      "metadata": {
        "id": "ON6a0JZVyNqw"
      },
      "source": [
        "The result is an object that represents the job running on a Gaia server.\n",
        "\n",
        "If you print it, it displays metadata for the forthcoming results."
      ]
    },
    {
      "cell_type": "code",
      "execution_count": 18,
      "metadata": {
        "id": "Bvu-ZcuLyNqw",
        "colab": {
          "base_uri": "https://localhost:8080/",
          "height": 314
        },
        "outputId": "d672bac2-011c-42d5-f40f-da3b76e3ccc1"
      },
      "outputs": [
        {
          "output_type": "execute_result",
          "data": {
            "text/plain": [
              "<Table length=10>\n",
              "     source_id              ra                 dec               parallax      \n",
              "                           deg                 deg                 mas         \n",
              "       int64             float64             float64             float64       \n",
              "------------------- ------------------ ------------------- --------------------\n",
              "6725808151495180416  273.2024472562613  -39.92088098794651  -0.0705283616273856\n",
              "6725816530969435904  273.5613162462128  -39.97785743998207    0.088127373730999\n",
              "6725822543915027584 273.78544818193126  -39.75021635371872 -0.19346189638550243\n",
              "6725836670085795328  273.5342370382394  -39.74118869838289                   --\n",
              "6725822754391070720 273.63606471961094  -39.88100275307388 -0.18498528104428974\n",
              "6725813477259670144  273.6216707445414 -39.977171000333456   0.8934988840269379\n",
              "6725818218903207296  273.7030946029463  -40.01524721878322  -0.8230957725988701\n",
              "6725826533975713024 273.68324568266104  -39.70226661714797   0.5098085693125167\n",
              "6725824506738110080  273.5838862280664  -39.79582024222513                   --\n",
              "6725809491529659776    273.51448157532  -40.18297833743812  0.17215606680286655"
            ],
            "text/html": [
              "<div><i>Table length=10</i>\n",
              "<table id=\"table134460562224848\" class=\"table-striped table-bordered table-condensed\">\n",
              "<thead><tr><th>source_id</th><th>ra</th><th>dec</th><th>parallax</th></tr></thead>\n",
              "<thead><tr><th></th><th>deg</th><th>deg</th><th>mas</th></tr></thead>\n",
              "<thead><tr><th>int64</th><th>float64</th><th>float64</th><th>float64</th></tr></thead>\n",
              "<tr><td>6725808151495180416</td><td>273.2024472562613</td><td>-39.92088098794651</td><td>-0.0705283616273856</td></tr>\n",
              "<tr><td>6725816530969435904</td><td>273.5613162462128</td><td>-39.97785743998207</td><td>0.088127373730999</td></tr>\n",
              "<tr><td>6725822543915027584</td><td>273.78544818193126</td><td>-39.75021635371872</td><td>-0.19346189638550243</td></tr>\n",
              "<tr><td>6725836670085795328</td><td>273.5342370382394</td><td>-39.74118869838289</td><td>--</td></tr>\n",
              "<tr><td>6725822754391070720</td><td>273.63606471961094</td><td>-39.88100275307388</td><td>-0.18498528104428974</td></tr>\n",
              "<tr><td>6725813477259670144</td><td>273.6216707445414</td><td>-39.977171000333456</td><td>0.8934988840269379</td></tr>\n",
              "<tr><td>6725818218903207296</td><td>273.7030946029463</td><td>-40.01524721878322</td><td>-0.8230957725988701</td></tr>\n",
              "<tr><td>6725826533975713024</td><td>273.68324568266104</td><td>-39.70226661714797</td><td>0.5098085693125167</td></tr>\n",
              "<tr><td>6725824506738110080</td><td>273.5838862280664</td><td>-39.79582024222513</td><td>--</td></tr>\n",
              "<tr><td>6725809491529659776</td><td>273.51448157532</td><td>-40.18297833743812</td><td>0.17215606680286655</td></tr>\n",
              "</table></div>"
            ]
          },
          "metadata": {},
          "execution_count": 18
        }
      ],
      "source": [
        "results = job.get_results()\n",
        "type(results)\n",
        "results"
      ]
    },
    {
      "cell_type": "code",
      "execution_count": 15,
      "metadata": {
        "id": "VoI90_3-yNqw",
        "colab": {
          "base_uri": "https://localhost:8080/"
        },
        "outputId": "df6c0fbe-a26a-4e3e-b6bc-2771a8e64e11"
      },
      "outputs": [
        {
          "output_type": "stream",
          "name": "stdout",
          "text": [
            "<Table length=10>\n",
            "   name    dtype  unit                            description                             n_bad\n",
            "--------- ------- ---- ------------------------------------------------------------------ -----\n",
            "source_id   int64      Unique source identifier (unique within a particular Data Release)     0\n",
            "       ra float64  deg                                                    Right ascension     0\n",
            "      dec float64  deg                                                        Declination     0\n",
            " parallax float64  mas                                                           Parallax     2\n",
            "Jobid: None\n",
            "Phase: COMPLETED\n",
            "Owner: None\n",
            "Output file: 1692819040206O-result.vot.gz\n",
            "Results: None\n"
          ]
        }
      ],
      "source": [
        "print(job)"
      ]
    },
    {
      "cell_type": "markdown",
      "metadata": {
        "id": "0MMpn0u2yNqw"
      },
      "source": [
        "Don't worry about `Results: None`.  That does not actually mean there are no results.\n",
        "\n",
        "However, `Phase: COMPLETED` indicates that the job is complete, so we can get the results like this:"
      ]
    },
    {
      "cell_type": "markdown",
      "metadata": {
        "id": "Xx_vrDzOyNqx"
      },
      "source": [
        "The `type` function indicates that the result is an [Astropy Table](https://docs.astropy.org/en/stable/table/).\n",
        "\n",
        "**Optional detail:**  Why is `table` repeated three times?  The first is the name of the module, the second is the name of the submodule, and the third is the name of the class.  Most of the time we only care about the last one.  It's like the Linnean name for gorilla, which is *Gorilla gorilla gorilla*."
      ]
    },
    {
      "cell_type": "markdown",
      "metadata": {
        "id": "amVFZh0qyNqx"
      },
      "source": [
        "An Astropy `Table` is similar to a table in an SQL database except:\n",
        "\n",
        "* SQL databases are stored on disk drives, so they are persistent; that is, they \"survive\" even if you turn off the computer.  An Astropy `Table` is stored in memory; it disappears when you turn off the computer (or shut down this Jupyter notebook).\n",
        "\n",
        "* SQL databases are designed to process queries.  An Astropy `Table` can perform some query-like operations, like selecting columns and rows.  But these operations use Python syntax, not SQL.\n",
        "\n",
        "Jupyter knows how to display the contents of a `Table`."
      ]
    },
    {
      "cell_type": "code",
      "execution_count": null,
      "metadata": {
        "id": "Cwk8yhULyNqx"
      },
      "outputs": [],
      "source": [
        "results"
      ]
    },
    {
      "cell_type": "markdown",
      "metadata": {
        "id": "Zw844fJ2yNqy"
      },
      "source": [
        "Each column has a name, units, and a data type.\n",
        "\n",
        "For example, the units of `ra` and `dec` are degrees, and their data type is `float64`, which is a 64-bit [floating-point number](https://en.wikipedia.org/wiki/Floating-point_arithmetic), used to store measurements with a fraction part.\n",
        "\n",
        "This information comes from the Gaia database, and has been stored in the Astropy `Table` by Astroquery."
      ]
    },
    {
      "cell_type": "markdown",
      "metadata": {
        "id": "tH-qZpUoyNqy"
      },
      "source": [
        "### Exercise\n",
        "\n",
        "Read [the documentation](https://gea.esac.esa.int/archive/documentation/GDR2/Gaia_archive/chap_datamodel/sec_dm_main_tables/ssec_dm_gaia_source.html)  of this table and choose a column that looks interesting to you.  Add the column name to the query and run it again.  What are the units of the column you selected?  What is its data type?"
      ]
    },
    {
      "cell_type": "code",
      "execution_count": 19,
      "metadata": {
        "id": "-GHAMosjyNq0"
      },
      "outputs": [],
      "source": [
        "query2 = \"\"\"SELECT\n",
        "TOP 10\n",
        "source_id, ra, dec, parallax, ra_pmra_corr\n",
        "FROM gaiadr2.gaia_source\n",
        "\"\"\""
      ]
    },
    {
      "cell_type": "code",
      "source": [
        "job = Gaia.launch_job(query2)\n",
        "job\n"
      ],
      "metadata": {
        "colab": {
          "base_uri": "https://localhost:8080/"
        },
        "id": "rfmLBJz_7NYP",
        "outputId": "e5027392-2c74-4958-d2db-e47d86f07a9c"
      },
      "execution_count": 20,
      "outputs": [
        {
          "output_type": "execute_result",
          "data": {
            "text/plain": [
              "<astroquery.utils.tap.model.job.Job at 0x7a4a6c3b4790>"
            ]
          },
          "metadata": {},
          "execution_count": 20
        }
      ]
    },
    {
      "cell_type": "code",
      "source": [
        "results = job.get_results()\n",
        "type(results)\n",
        "results"
      ],
      "metadata": {
        "colab": {
          "base_uri": "https://localhost:8080/",
          "height": 314
        },
        "id": "7XlwHcc57coI",
        "outputId": "6c007c46-223a-488e-81fc-b3cf8d33e6f5"
      },
      "execution_count": 21,
      "outputs": [
        {
          "output_type": "execute_result",
          "data": {
            "text/plain": [
              "<Table length=10>\n",
              "     source_id              ra         ...       parallax       ra_pmra_corr\n",
              "                           deg         ...         mas                      \n",
              "       int64             float64       ...       float64          float32   \n",
              "------------------- ------------------ ... -------------------- ------------\n",
              "6725808151495180416  273.2024472562613 ...  -0.0705283616273856  -0.27017105\n",
              "6725816530969435904  273.5613162462128 ...    0.088127373730999  -0.39172256\n",
              "6725822543915027584 273.78544818193126 ... -0.19346189638550243  -0.44404832\n",
              "6725836670085795328  273.5342370382394 ...                   --           --\n",
              "6725822754391070720 273.63606471961094 ... -0.18498528104428974  -0.42273077\n",
              "6725813477259670144  273.6216707445414 ...   0.8934988840269379   -0.4694395\n",
              "6725818218903207296  273.7030946029463 ...  -0.8230957725988701  -0.43924832\n",
              "6725826533975713024 273.68324568266104 ...   0.5098085693125167  -0.05758743\n",
              "6725824506738110080  273.5838862280664 ...                   --           --\n",
              "6725809491529659776    273.51448157532 ...  0.17215606680286655  -0.14278917"
            ],
            "text/html": [
              "<div><i>Table length=10</i>\n",
              "<table id=\"table134460060772688\" class=\"table-striped table-bordered table-condensed\">\n",
              "<thead><tr><th>source_id</th><th>ra</th><th>dec</th><th>parallax</th><th>ra_pmra_corr</th></tr></thead>\n",
              "<thead><tr><th></th><th>deg</th><th>deg</th><th>mas</th><th></th></tr></thead>\n",
              "<thead><tr><th>int64</th><th>float64</th><th>float64</th><th>float64</th><th>float32</th></tr></thead>\n",
              "<tr><td>6725808151495180416</td><td>273.2024472562613</td><td>-39.92088098794651</td><td>-0.0705283616273856</td><td>-0.27017105</td></tr>\n",
              "<tr><td>6725816530969435904</td><td>273.5613162462128</td><td>-39.97785743998207</td><td>0.088127373730999</td><td>-0.39172256</td></tr>\n",
              "<tr><td>6725822543915027584</td><td>273.78544818193126</td><td>-39.75021635371872</td><td>-0.19346189638550243</td><td>-0.44404832</td></tr>\n",
              "<tr><td>6725836670085795328</td><td>273.5342370382394</td><td>-39.74118869838289</td><td>--</td><td>--</td></tr>\n",
              "<tr><td>6725822754391070720</td><td>273.63606471961094</td><td>-39.88100275307388</td><td>-0.18498528104428974</td><td>-0.42273077</td></tr>\n",
              "<tr><td>6725813477259670144</td><td>273.6216707445414</td><td>-39.977171000333456</td><td>0.8934988840269379</td><td>-0.4694395</td></tr>\n",
              "<tr><td>6725818218903207296</td><td>273.7030946029463</td><td>-40.01524721878322</td><td>-0.8230957725988701</td><td>-0.43924832</td></tr>\n",
              "<tr><td>6725826533975713024</td><td>273.68324568266104</td><td>-39.70226661714797</td><td>0.5098085693125167</td><td>-0.05758743</td></tr>\n",
              "<tr><td>6725824506738110080</td><td>273.5838862280664</td><td>-39.79582024222513</td><td>--</td><td>--</td></tr>\n",
              "<tr><td>6725809491529659776</td><td>273.51448157532</td><td>-40.18297833743812</td><td>0.17215606680286655</td><td>-0.14278917</td></tr>\n",
              "</table></div>"
            ]
          },
          "metadata": {},
          "execution_count": 21
        }
      ]
    },
    {
      "cell_type": "markdown",
      "metadata": {
        "id": "CHAL5vWJyNq0"
      },
      "source": [
        "## Asynchronous queries\n",
        "\n",
        "`launch_job` asks the server to run the job \"synchronously\", which normally means it runs immediately.  But synchronous jobs are limited to 2000 rows.  For queries that return more rows, you should run \"asynchronously\", which mean they might take longer to get started.\n",
        "\n",
        "If you are not sure how many rows a query will return, you can use the SQL command `COUNT` to find out how many rows are in the result without actually returning them.  We'll see an example in the next lesson.\n",
        "\n",
        "The results of an asynchronous query are stored in a file on the server, so you can start a query and come back later to get the results.\n",
        "For anonymous users, files are kept for three days.\n",
        "\n",
        "As an example, let's try a query that's similar to `query1`, with these changes:\n",
        "\n",
        "* It selects the first 3000 rows, so it is bigger than we should run synchronously.\n",
        "\n",
        "* It selects two additional columns, `pmra` and `pmdec`, which are proper motions along the axes of `ra` and `dec`.\n",
        "\n",
        "* It uses a new keyword, `WHERE`."
      ]
    },
    {
      "cell_type": "code",
      "execution_count": 29,
      "metadata": {
        "id": "bTww9FWUyNq8"
      },
      "outputs": [],
      "source": [
        "query3 = \"\"\"SELECT\n",
        "TOP 20\n",
        "source_id, ra, dec, pmra, pmdec, parallax\n",
        "FROM gaiadr2.gaia_source\n",
        "WHERE parallax < 1\n",
        "\"\"\""
      ]
    },
    {
      "cell_type": "markdown",
      "metadata": {
        "id": "JJvefXH-yNq8"
      },
      "source": [
        "A `WHERE` clause indicates which rows we want; in this case, the query selects only rows \"where\" `parallax` is less than 1.  This has the effect of selecting stars with relatively low parallax, which are farther away.\n",
        "We'll use this clause to exclude nearby stars that are unlikely to be part of GD-1.\n",
        "\n",
        "`WHERE` is one of the most common clauses in ADQL/SQL, and one of the most useful, because it allows us to download only the rows we need from the database.\n",
        "\n",
        "We use `launch_job_async` to submit an asynchronous query."
      ]
    },
    {
      "cell_type": "code",
      "execution_count": 30,
      "metadata": {
        "id": "chnKJxPuyNq8",
        "colab": {
          "base_uri": "https://localhost:8080/"
        },
        "outputId": "4402e9b4-bb8a-4076-fbd2-4fdb87855228"
      },
      "outputs": [
        {
          "output_type": "execute_result",
          "data": {
            "text/plain": [
              "<astroquery.utils.tap.model.job.Job at 0x7a4a5c8e72e0>"
            ]
          },
          "metadata": {},
          "execution_count": 30
        }
      ],
      "source": [
        "job = Gaia.launch_job(query3)\n",
        "job"
      ]
    },
    {
      "cell_type": "markdown",
      "metadata": {
        "id": "VnMIS1hAyNq8"
      },
      "source": [
        "And here are the results."
      ]
    },
    {
      "cell_type": "code",
      "execution_count": 31,
      "metadata": {
        "id": "0OnGdL_5yNq9",
        "colab": {
          "base_uri": "https://localhost:8080/",
          "height": 528
        },
        "outputId": "d70fc6a5-7607-4310-a913-a575d81bcef6"
      },
      "outputs": [
        {
          "output_type": "execute_result",
          "data": {
            "text/plain": [
              "<Table length=20>\n",
              "     source_id              ra         ...       parallax      \n",
              "                           deg         ...         mas         \n",
              "       int64             float64       ...       float64       \n",
              "------------------- ------------------ ... --------------------\n",
              "6725808151495180416  273.2024472562613 ...  -0.0705283616273856\n",
              "6725816530969435904  273.5613162462128 ...    0.088127373730999\n",
              "6725822543915027584 273.78544818193126 ... -0.19346189638550243\n",
              "6725822754391070720 273.63606471961094 ... -0.18498528104428974\n",
              "6725813477259670144  273.6216707445414 ...   0.8934988840269379\n",
              "6725818218903207296  273.7030946029463 ...  -0.8230957725988701\n",
              "6725826533975713024 273.68324568266104 ...   0.5098085693125167\n",
              "6725809491529659776    273.51448157532 ...  0.17215606680286655\n",
              "6725817772229183360  273.5463052683291 ...   -0.250162068514155\n",
              "6725830691503344640 273.37677331017204 ...   0.4440277170794005\n",
              "6725829488912441600 273.41813710905194 ...   0.0984187084836541\n",
              "6725818012745759744  273.4975618230095 ...   0.6191920821211342\n",
              "6725833680787071360 273.33641970735306 ...   0.7765691879292816\n",
              "6680668281415703040 307.27292014470623 ...   0.8747664371315524\n",
              "6680781737273393792 307.26703902553874 ... -0.33260343323840924\n",
              "6680790189768881792  307.3917454308011 ...  0.38222659344855575\n",
              "6680613825526652160 306.42763893531304 ...   0.6303268722679134\n",
              "6680787307845081728 307.42798369344973 ...  0.37924332454392506\n",
              "6680661890505634432  306.6950221209763 ...  0.32359529876120835\n",
              "6680606365167638272  306.3972126933587 ...  0.29293741386945765"
            ],
            "text/html": [
              "<div><i>Table length=20</i>\n",
              "<table id=\"table134459799009456\" class=\"table-striped table-bordered table-condensed\">\n",
              "<thead><tr><th>source_id</th><th>ra</th><th>dec</th><th>pmra</th><th>pmdec</th><th>parallax</th></tr></thead>\n",
              "<thead><tr><th></th><th>deg</th><th>deg</th><th>mas / yr</th><th>mas / yr</th><th>mas</th></tr></thead>\n",
              "<thead><tr><th>int64</th><th>float64</th><th>float64</th><th>float64</th><th>float64</th><th>float64</th></tr></thead>\n",
              "<tr><td>6725808151495180416</td><td>273.2024472562613</td><td>-39.92088098794651</td><td>3.32712863747578</td><td>-5.259854507498313</td><td>-0.0705283616273856</td></tr>\n",
              "<tr><td>6725816530969435904</td><td>273.5613162462128</td><td>-39.97785743998207</td><td>-1.9583808176402229</td><td>-2.9271455007123572</td><td>0.088127373730999</td></tr>\n",
              "<tr><td>6725822543915027584</td><td>273.78544818193126</td><td>-39.75021635371872</td><td>-2.5458472921020308</td><td>0.2290376387599454</td><td>-0.19346189638550243</td></tr>\n",
              "<tr><td>6725822754391070720</td><td>273.63606471961094</td><td>-39.88100275307388</td><td>1.4478628788642292</td><td>-6.292034449198506</td><td>-0.18498528104428974</td></tr>\n",
              "<tr><td>6725813477259670144</td><td>273.6216707445414</td><td>-39.977171000333456</td><td>-1.0427886059094142</td><td>-0.3135690117326585</td><td>0.8934988840269379</td></tr>\n",
              "<tr><td>6725818218903207296</td><td>273.7030946029463</td><td>-40.01524721878322</td><td>0.5913693438143868</td><td>-5.869154576698028</td><td>-0.8230957725988701</td></tr>\n",
              "<tr><td>6725826533975713024</td><td>273.68324568266104</td><td>-39.70226661714797</td><td>-2.5289772497623093</td><td>-1.7073749760314398</td><td>0.5098085693125167</td></tr>\n",
              "<tr><td>6725809491529659776</td><td>273.51448157532</td><td>-40.18297833743812</td><td>-5.6835193528408245</td><td>-9.64297496778939</td><td>0.17215606680286655</td></tr>\n",
              "<tr><td>6725817772229183360</td><td>273.5463052683291</td><td>-39.90154135408863</td><td>-1.9738014305935354</td><td>-3.0777319570516726</td><td>-0.250162068514155</td></tr>\n",
              "<tr><td>6725830691503344640</td><td>273.37677331017204</td><td>-39.82880155749549</td><td>0.1186498475761131</td><td>-4.05211828756948</td><td>0.4440277170794005</td></tr>\n",
              "<tr><td>6725829488912441600</td><td>273.41813710905194</td><td>-39.888485056256606</td><td>2.0825177568957245</td><td>0.0848350913751548</td><td>0.0984187084836541</td></tr>\n",
              "<tr><td>6725818012745759744</td><td>273.4975618230095</td><td>-39.875815973793266</td><td>-0.608390494637835</td><td>-1.075078088922348</td><td>0.6191920821211342</td></tr>\n",
              "<tr><td>6725833680787071360</td><td>273.33641970735306</td><td>-39.79838366210829</td><td>-7.409475867314138</td><td>-3.6836800956549363</td><td>0.7765691879292816</td></tr>\n",
              "<tr><td>6680668281415703040</td><td>307.27292014470623</td><td>-40.937787614021765</td><td>2.6417114017803955</td><td>-3.6890469781603485</td><td>0.8747664371315524</td></tr>\n",
              "<tr><td>6680781737273393792</td><td>307.26703902553874</td><td>-39.892373862360174</td><td>4.672570003872492</td><td>-6.8437537883872075</td><td>-0.33260343323840924</td></tr>\n",
              "<tr><td>6680790189768881792</td><td>307.3917454308011</td><td>-39.74650295408555</td><td>1.4225157603037026</td><td>-8.544689855682712</td><td>0.38222659344855575</td></tr>\n",
              "<tr><td>6680613825526652160</td><td>306.42763893531304</td><td>-40.90316765338218</td><td>-9.84630489945526</td><td>-8.77660724345001</td><td>0.6303268722679134</td></tr>\n",
              "<tr><td>6680787307845081728</td><td>307.42798369344973</td><td>-39.83631087701352</td><td>-1.704153584569673</td><td>-6.544432313336269</td><td>0.37924332454392506</td></tr>\n",
              "<tr><td>6680661890505634432</td><td>306.6950221209763</td><td>-40.44370986989116</td><td>6.329713072083342</td><td>-6.9863176785978585</td><td>0.32359529876120835</td></tr>\n",
              "<tr><td>6680606365167638272</td><td>306.3972126933587</td><td>-41.17530106693859</td><td>-0.718311058646852</td><td>-5.69334214328503</td><td>0.29293741386945765</td></tr>\n",
              "</table></div>"
            ]
          },
          "metadata": {},
          "execution_count": 31
        }
      ],
      "source": [
        "results = job.get_results()\n",
        "results"
      ]
    },
    {
      "cell_type": "markdown",
      "metadata": {
        "id": "lHinaeQjyNq9"
      },
      "source": [
        "You might notice that some values of `parallax` are negative.  As [this FAQ explains](https://www.cosmos.esa.int/web/gaia/archive-tips#negative%20parallax), \"Negative parallaxes are caused by errors in the observations.\"  They have \"no physical meaning,\" but they can be a \"useful diagnostic on the quality of the astrometric solution.\""
      ]
    },
    {
      "cell_type": "markdown",
      "metadata": {
        "id": "y7ZDjN4uyNq9"
      },
      "source": [
        "### Exercise\n",
        "\n",
        "The clauses in a query have to be in the right order.  Go back and change the order of the clauses in `query2` and run it again.\n",
        "The modified query should fail, but notice that you don't get much useful debugging information.\n",
        "\n",
        "For this reason, developing and debugging ADQL queries can be really hard.  A few suggestions that might help:\n",
        "\n",
        "* Whenever possible, start with a working query, either an example you find online or a query you have used in the past.\n",
        "\n",
        "* Make small changes and test each change before you continue.\n",
        "\n",
        "* While you are debugging, use `TOP` to limit the number of rows in the result.  That will make each test run faster, which reduces your development time.  \n",
        "\n",
        "* Launching test queries synchronously might make them start faster, too."
      ]
    },
    {
      "cell_type": "code",
      "execution_count": null,
      "metadata": {
        "id": "erkQbr0EyNq9"
      },
      "outputs": [],
      "source": [
        "# Solution goes here"
      ]
    },
    {
      "cell_type": "markdown",
      "metadata": {
        "id": "YoKZwM69yNq9"
      },
      "source": [
        "## Operators\n",
        "\n",
        "In a `WHERE` clause, you can use any of the [SQL comparison operators](https://www.w3schools.com/sql/sql_operators.asp); here are the most common ones:\n",
        "\n",
        "| Symbol | Operation\n",
        "|--------| :---\n",
        "| `>` | greater than\n",
        "| `<` | less than\n",
        "| `>=` | greater than or equal\n",
        "| `<=` | less than or equal\n",
        "| `=` | equal\n",
        "| `!=` or `<>` | not equal\n",
        "\n",
        "Most of these are the same as Python, but some are not.  In particular, notice that the equality operator is `=`, not `==`.\n",
        "Be careful to keep your Python out of your ADQL!"
      ]
    },
    {
      "cell_type": "markdown",
      "metadata": {
        "id": "zVEvpFAhyNq9"
      },
      "source": [
        "You can combine comparisons using the logical operators:\n",
        "\n",
        "* AND: true if both comparisons are true\n",
        "* OR: true if either or both comparisons are true\n",
        "\n",
        "Finally, you can use `NOT` to invert the result of a comparison."
      ]
    },
    {
      "cell_type": "markdown",
      "metadata": {
        "id": "lzhrM8XhyNq9"
      },
      "source": [
        "### Exercise\n",
        "\n",
        "[Read about SQL operators here](https://www.w3schools.com/sql/sql_operators.asp) and then modify the previous query to select rows where `bp_rp` is between `-0.75` and `2`."
      ]
    },
    {
      "cell_type": "code",
      "execution_count": null,
      "metadata": {
        "tags": [],
        "id": "h1o-jtDdyNq-"
      },
      "outputs": [],
      "source": [
        "# Solution goes here"
      ]
    },
    {
      "cell_type": "markdown",
      "metadata": {
        "id": "Zm6OmN4xyNq-"
      },
      "source": [
        "`bp_rp` contains BP-RP color, which is the difference between two other columns, `phot_bp_mean_mag` and `phot_rp_mean_mag`.\n",
        "You can [read about this variable here](https://gea.esac.esa.int/archive/documentation/GDR2/Gaia_archive/chap_datamodel/sec_dm_main_tables/ssec_dm_gaia_source.html).\n",
        "\n",
        "This [Hertzsprung-Russell diagram](https://sci.esa.int/web/gaia/-/60198-gaia-hertzsprung-russell-diagram) shows the BP-RP color and luminosity of stars in the Gaia catalog (Copyright: ESA/Gaia/DPAC, CC BY-SA 3.0 IGO).\n",
        "\n",
        "<img width=\"300\" src=\"https://github.com/AllenDowney/AstronomicalData/raw/main/images/1567214809100-ESA_Gaia_DR2_HRD_Gaia_625.jpg\">\n",
        "\n",
        "Selecting stars with `bp-rp` less than 2 excludes many [class M dwarf stars](https://xkcd.com/2360/), which are low temperature, low luminosity.  A star like that at GD-1's distance would be hard to detect, so if it is detected, it it more likely to be in the foreground."
      ]
    },
    {
      "cell_type": "markdown",
      "metadata": {
        "id": "q61uDjm_yNq-"
      },
      "source": [
        "## Formatting queries\n",
        "\n",
        "The queries we have written so far are string \"literals\", meaning that the entire string is part of the program.\n",
        "But writing queries yourself can be slow, repetitive, and error-prone.\n",
        "\n",
        "It is often better to write Python code that assembles a query for you.  One useful tool for that is the [string `format` method](https://www.w3schools.com/python/ref_string_format.asp).\n",
        "\n",
        "As an example, we'll divide the previous query into two parts; a list of column names and a \"base\" for the query that contains everything except the column names.\n",
        "\n",
        "Here's the list of columns we'll select.  "
      ]
    },
    {
      "cell_type": "code",
      "execution_count": null,
      "metadata": {
        "id": "QI0hhiGpyNq-"
      },
      "outputs": [],
      "source": [
        "columns = 'source_id, ra, dec, pmra, pmdec, parallax'"
      ]
    },
    {
      "cell_type": "markdown",
      "metadata": {
        "id": "Dll9mu1ByNq-"
      },
      "source": [
        "And here's the base; it's a string that contains at least one format specifier in curly brackets (braces)."
      ]
    },
    {
      "cell_type": "code",
      "execution_count": null,
      "metadata": {
        "id": "WlvIfQjwyNq_"
      },
      "outputs": [],
      "source": [
        "query3_base = \"\"\"SELECT\n",
        "TOP 10\n",
        "{columns}\n",
        "FROM gaiadr2.gaia_source\n",
        "WHERE parallax < 1\n",
        "  AND bp_rp BETWEEN -0.75 AND 2\n",
        "\"\"\""
      ]
    },
    {
      "cell_type": "markdown",
      "metadata": {
        "id": "dVx4AN9EyNq_"
      },
      "source": [
        "This base query contains one format specifier, `{columns}`, which is a placeholder for the list of column names we will provide.\n",
        "\n",
        "To assemble the query, we invoke `format` on the base string and provide a keyword argument that assigns a value to `columns`."
      ]
    },
    {
      "cell_type": "code",
      "execution_count": null,
      "metadata": {
        "id": "NdmqF5ACyNq_"
      },
      "outputs": [],
      "source": [
        "query3 = query3_base.format(columns=columns)"
      ]
    },
    {
      "cell_type": "markdown",
      "metadata": {
        "id": "9clLrg9kyNrA"
      },
      "source": [
        "In this example, the variable that contains the column names and the variable in the format specifier have the same name.\n",
        "That's not required, but it is a common style.\n",
        "\n",
        "The result is a string with line breaks.  If you display it, the line breaks appear as `\\n`."
      ]
    },
    {
      "cell_type": "code",
      "execution_count": null,
      "metadata": {
        "id": "bJgkGWr6yNrA"
      },
      "outputs": [],
      "source": [
        "query3"
      ]
    },
    {
      "cell_type": "markdown",
      "metadata": {
        "id": "kagfy-8DyNrA"
      },
      "source": [
        "But if you print it, the line breaks appear as... line breaks."
      ]
    },
    {
      "cell_type": "code",
      "execution_count": null,
      "metadata": {
        "id": "GFcxdNFdyNrA"
      },
      "outputs": [],
      "source": [
        "print(query3)"
      ]
    },
    {
      "cell_type": "markdown",
      "metadata": {
        "id": "lH-EUqbMyNrA"
      },
      "source": [
        "Notice that the format specifier has been replaced with the value of `columns`.\n",
        "\n",
        "Let's run it and see if it works:"
      ]
    },
    {
      "cell_type": "code",
      "execution_count": null,
      "metadata": {
        "scrolled": true,
        "id": "wm4jhPzFyNrA"
      },
      "outputs": [],
      "source": [
        "job = Gaia.launch_job(query3)\n",
        "print(job)"
      ]
    },
    {
      "cell_type": "code",
      "execution_count": null,
      "metadata": {
        "id": "B1NSIiIIyNrA"
      },
      "outputs": [],
      "source": [
        "results = job.get_results()\n",
        "results"
      ]
    },
    {
      "cell_type": "markdown",
      "metadata": {
        "id": "Z5tQEsKTyNrA"
      },
      "source": [
        "Good so far."
      ]
    },
    {
      "cell_type": "markdown",
      "metadata": {
        "id": "rMUFREbqyNrB"
      },
      "source": [
        "### Exercise\n",
        "\n",
        "This query always selects sources with `parallax` less than 1.  But suppose you want to take that upper bound as an input.\n",
        "\n",
        "Modify `query3_base` to replace `1` with a format specifier like `{max_parallax}`.  Now, when you call `format`, add a keyword argument that assigns a value to `max_parallax`, and confirm that the format specifier gets replaced with the value you provide."
      ]
    },
    {
      "cell_type": "code",
      "execution_count": null,
      "metadata": {
        "tags": [],
        "id": "K6Iq_77ZyNrB"
      },
      "outputs": [],
      "source": [
        "# Solution goes here"
      ]
    },
    {
      "cell_type": "markdown",
      "metadata": {
        "id": "zPjO5RWtyNrB"
      },
      "source": [
        "## Summary\n",
        "\n",
        "This notebook demonstrates the following steps:\n",
        "\n",
        "1. Making a connection to the Gaia server,\n",
        "\n",
        "2. Exploring information about the database and the tables it contains,\n",
        "\n",
        "3. Writing a query and sending it to the server, and finally\n",
        "\n",
        "4. Downloading the response from the server as an Astropy `Table`.\n",
        "\n",
        "In the next lesson we will extend these queries to select a particular region of the sky."
      ]
    },
    {
      "cell_type": "markdown",
      "metadata": {
        "id": "1z78PbZsyNrB"
      },
      "source": [
        "## Best practices\n",
        "\n",
        "* If you can't download an entire dataset (or it's not practical) use queries to select the data you need.\n",
        "\n",
        "* Read the metadata and the documentation to make sure you understand the tables, their columns, and what they mean.\n",
        "\n",
        "* Develop queries incrementally: start with something simple, test it, and add a little bit at a time.\n",
        "\n",
        "* Use ADQL features like `TOP` and `COUNT` to test before you run a query that might return a lot of data.\n",
        "\n",
        "* If you know your query will return fewer than 2000 rows, you can run it synchronously, which might complete faster.  If it might return more than 2000 rows, you should run it asynchronously.\n",
        "\n",
        "* ADQL and SQL are not case-sensitive, so you don't have to capitalize the keywords, but you should.\n",
        "\n",
        "* ADQL and SQL don't require you to break a query into multiple lines, but you should."
      ]
    },
    {
      "cell_type": "markdown",
      "metadata": {
        "id": "G7J5dNTEyNrB"
      },
      "source": [
        "Jupyter notebooks can be good for developing and testing code, but they have some drawbacks.  In particular, if you run the cells out of order, you might find that variables don't have the values you expect.\n",
        "\n",
        "To mitigate these problems:\n",
        "\n",
        "* Make each section of the notebook self-contained.  Try not to use the same variable name in more than one section.\n",
        "\n",
        "* Keep notebooks short.  Look for places where you can break your analysis into phases with one notebook per phase."
      ]
    },
    {
      "cell_type": "code",
      "execution_count": null,
      "metadata": {
        "id": "xfLQ2DXZyNrB"
      },
      "outputs": [],
      "source": []
    }
  ],
  "metadata": {
    "celltoolbar": "Tags",
    "kernelspec": {
      "display_name": "Python 3",
      "language": "python",
      "name": "python3"
    },
    "language_info": {
      "codemirror_mode": {
        "name": "ipython",
        "version": 3
      },
      "file_extension": ".py",
      "mimetype": "text/x-python",
      "name": "python",
      "nbconvert_exporter": "python",
      "pygments_lexer": "ipython3",
      "version": "3.8.8"
    },
    "colab": {
      "provenance": [],
      "include_colab_link": true
    }
  },
  "nbformat": 4,
  "nbformat_minor": 0
}